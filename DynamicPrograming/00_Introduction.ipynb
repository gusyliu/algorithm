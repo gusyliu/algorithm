{
 "cells": [
  {
   "cell_type": "markdown",
   "metadata": {},
   "source": [
    "# 动态规划\n",
    "## 定义\n",
    "动态规划，英文：Dynamic Programming，简称DP，如果某一问题有很多重叠子问题，使用动态规划是最有效的。\n",
    "所以动态规划中每一个状态一定是由上一个状态推导出来的，这一点就区分于贪心，贪心没有状态推导，而是从局部直接选最优的，\n",
    "\n",
    "## 动态规划的解题步骤\n",
    "\n",
    "1. 确定dp数组（dp table）以及下标的含义\n",
    "2. 确定递推公式\n",
    "3. dp数组如何初始化\n",
    "4. 确定遍历顺序\n",
    "5. 举例推导dp数组"
   ]
  },
  {
   "cell_type": "markdown",
   "metadata": {},
   "source": [
    "## 例题\n",
    "### 斐波那契数\n",
    "斐波那契数，通常用 F(n) 表示，形成的序列称为 斐波那契数列 。该数列由 0 和 1 开始，后面的每一项数字都是前面两项数字的和。也就是： F(0) = 0，F(1) = 1 F(n) = F(n - 1) + F(n - 2)，其中 n > 1 给你n ，请计算 F(n) 。\n",
    "\n",
    "示例 1：\n",
    "\n",
    "+ 输入：2\n",
    "+ 输出：1\n",
    "+ 解释：F(2) = F(1) + F(0) = 1 + 0 = 1\n",
    "示例 2：\n",
    "\n",
    "+ 输入：3\n",
    "+ 输出：2\n",
    "+ 解释：F(3) = F(2) + F(1) = 1 + 1 = 2\n",
    "示例 3：\n",
    "\n",
    "+ 输入：4\n",
    "+ 输出：3\n",
    "+ 解释：F(4) = F(3) + F(2) = 2 + 1 = 3\n",
    "提示：\n",
    "\n",
    "+ 0 <= n <= 30"
   ]
  },
  {
   "cell_type": "code",
   "execution_count": null,
   "metadata": {},
   "outputs": [],
   "source": [
    "class Solution:\n",
    "    def fib(self, n: int) -> int:\n",
    "       \n",
    "        # 排除 Corner Case\n",
    "        if n == 0:\n",
    "            return 0\n",
    "        \n",
    "        # 创建 dp table \n",
    "        dp = [0] * (n + 1)\n",
    "\n",
    "        # 初始化 dp 数组\n",
    "        dp[0] = 0\n",
    "        dp[1] = 1\n",
    "\n",
    "        # 遍历顺序: 由前向后。因为后面要用到前面的状态\n",
    "        for i in range(2, n + 1):\n",
    "\n",
    "            # 确定递归公式/状态转移公式\n",
    "            dp[i] = dp[i - 1] + dp[i - 2]\n",
    "        \n",
    "        # 返回答案\n",
    "        return dp[n]"
   ]
  }
 ],
 "metadata": {
  "language_info": {
   "name": "python"
  }
 },
 "nbformat": 4,
 "nbformat_minor": 2
}
